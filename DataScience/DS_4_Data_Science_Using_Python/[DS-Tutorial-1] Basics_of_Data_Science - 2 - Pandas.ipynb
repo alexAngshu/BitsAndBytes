{
 "cells": [
  {
   "cell_type": "markdown",
   "metadata": {},
   "source": [
    "<h2 style=\"text-align: center;\">Basics of Data Science Using Python</h2>\n",
    "\n",
    "In this session, we will learn the basics of data science using Python. In the previous sessions, we already discussed about the basics of data science and the applications of data science. So, we will move forward to today's session where we will be covering many python modules and their applications.\n",
    "\n",
    "The modules covered in this session are,\n",
    "<ol>\n",
    "    <li>Numpy</li>\n",
    "    <li>Pandas</li>\n",
    "    <li>Matplotlib</li>\n",
    "</ol>"
   ]
  },
  {
   "cell_type": "markdown",
   "metadata": {},
   "source": [
    "<h3 style=\"text-align: center;\"> 2. Learning Pandas </h3>\n",
    "\n",
    "#### What is Pandas?\n",
    "<p> pandas is a fast, powerful, flexible and easy to use open source data analysis and manipulation tool, built on top of the Python programming language.</p>\n",
    "\n",
    "#### What are we going to learn?\n",
    "<p>We are going to learn the following </p>\n",
    "<ol>\n",
    "    <li>Pandas Object</li>\n",
    "    <li>Data Indexing and Selection</li>\n",
    "    <li>Operation on Data</li>\n",
    "    <li>Handling Missing Data</li>\n",
    "    <li>Operation on Null Values</li>\n",
    "    <li>Working With Time Series</li>\n",
    "</ol>"
   ]
  },
  {
   "cell_type": "markdown",
   "metadata": {},
   "source": [
    "### Import Pandas "
   ]
  },
  {
   "cell_type": "code",
   "execution_count": 1,
   "metadata": {},
   "outputs": [],
   "source": [
    "import pandas as pd\n",
    "# additional import\n",
    "import numpy as np"
   ]
  },
  {
   "cell_type": "markdown",
   "metadata": {},
   "source": [
    "### 1. Pandas Object\n",
    "\n",
    "#### Constructing Pandas Series Object\n",
    "<p>A Pandas Series is a one-dimensional array of indexed data. It can be created from a list or array as follows:</p>"
   ]
  },
  {
   "cell_type": "code",
   "execution_count": 2,
   "metadata": {},
   "outputs": [
    {
     "name": "stdout",
     "output_type": "stream",
     "text": [
      "Series:\n",
      " 0    0.25\n",
      "1    0.50\n",
      "2    0.75\n",
      "3    1.00\n",
      "dtype: float64\n",
      "Values of the series: [0.25 0.5  0.75 1.  ]\n",
      "Index of the series: RangeIndex(start=0, stop=4, step=1)\n",
      "\n",
      "\n",
      "Selecting single element: 0.5\n",
      "Selecting multiple element: 1    0.50\n",
      "2    0.75\n",
      "dtype: float64\n"
     ]
    }
   ],
   "source": [
    "data = pd.Series([0.25, 0.5, 0.75, 1.0])\n",
    "print('Series:\\n',data)\n",
    "\n",
    "print('Values of the series:',data.values)\n",
    "print('Index of the series:',data.index)\n",
    "print('\\n')\n",
    "\n",
    "#Data can also be accessed line in NumPy\n",
    "print('Selecting single element:',data[1])\n",
    "print('Selecting multiple element:',data[1:3])"
   ]
  },
  {
   "cell_type": "markdown",
   "metadata": {},
   "source": [
    "#### Constructing Dataframe Object"
   ]
  },
  {
   "cell_type": "code",
   "execution_count": 3,
   "metadata": {},
   "outputs": [
    {
     "name": "stdout",
     "output_type": "stream",
     "text": [
      "Population Series:\n",
      " California    38332521\n",
      "Texas         26448193\n",
      "New York      19651127\n",
      "Florida       19552860\n",
      "Illinois      12882135\n",
      "dtype: int64\n"
     ]
    }
   ],
   "source": [
    "population_dict = {'California': 38332521, 'Texas': 26448193, 'New York': 19651127, \n",
    "                   'Florida': 19552860, 'Illinois': 12882135}\n",
    "population = pd.Series(population_dict) \n",
    "print('Population Series:\\n', population)"
   ]
  },
  {
   "cell_type": "code",
   "execution_count": 4,
   "metadata": {},
   "outputs": [
    {
     "data": {
      "text/html": [
       "<div>\n",
       "<style scoped>\n",
       "    .dataframe tbody tr th:only-of-type {\n",
       "        vertical-align: middle;\n",
       "    }\n",
       "\n",
       "    .dataframe tbody tr th {\n",
       "        vertical-align: top;\n",
       "    }\n",
       "\n",
       "    .dataframe thead th {\n",
       "        text-align: right;\n",
       "    }\n",
       "</style>\n",
       "<table border=\"1\" class=\"dataframe\">\n",
       "  <thead>\n",
       "    <tr style=\"text-align: right;\">\n",
       "      <th></th>\n",
       "      <th>population</th>\n",
       "    </tr>\n",
       "  </thead>\n",
       "  <tbody>\n",
       "    <tr>\n",
       "      <th>California</th>\n",
       "      <td>38332521</td>\n",
       "    </tr>\n",
       "    <tr>\n",
       "      <th>Texas</th>\n",
       "      <td>26448193</td>\n",
       "    </tr>\n",
       "    <tr>\n",
       "      <th>New York</th>\n",
       "      <td>19651127</td>\n",
       "    </tr>\n",
       "    <tr>\n",
       "      <th>Florida</th>\n",
       "      <td>19552860</td>\n",
       "    </tr>\n",
       "    <tr>\n",
       "      <th>Illinois</th>\n",
       "      <td>12882135</td>\n",
       "    </tr>\n",
       "  </tbody>\n",
       "</table>\n",
       "</div>"
      ],
      "text/plain": [
       "            population\n",
       "California    38332521\n",
       "Texas         26448193\n",
       "New York      19651127\n",
       "Florida       19552860\n",
       "Illinois      12882135"
      ]
     },
     "execution_count": 4,
     "metadata": {},
     "output_type": "execute_result"
    }
   ],
   "source": [
    "df = pd.DataFrame(population, columns=['population'])\n",
    "df"
   ]
  },
  {
   "cell_type": "markdown",
   "metadata": {},
   "source": [
    "Even if some keys in the dictionary are missing, Pandas will fill them in with NaN (i.e., “not a number”) values:"
   ]
  },
  {
   "cell_type": "code",
   "execution_count": 5,
   "metadata": {},
   "outputs": [
    {
     "data": {
      "text/html": [
       "<div>\n",
       "<style scoped>\n",
       "    .dataframe tbody tr th:only-of-type {\n",
       "        vertical-align: middle;\n",
       "    }\n",
       "\n",
       "    .dataframe tbody tr th {\n",
       "        vertical-align: top;\n",
       "    }\n",
       "\n",
       "    .dataframe thead th {\n",
       "        text-align: right;\n",
       "    }\n",
       "</style>\n",
       "<table border=\"1\" class=\"dataframe\">\n",
       "  <thead>\n",
       "    <tr style=\"text-align: right;\">\n",
       "      <th></th>\n",
       "      <th>a</th>\n",
       "      <th>b</th>\n",
       "      <th>c</th>\n",
       "      <th>d</th>\n",
       "    </tr>\n",
       "  </thead>\n",
       "  <tbody>\n",
       "    <tr>\n",
       "      <th>0</th>\n",
       "      <td>1.0</td>\n",
       "      <td>2.0</td>\n",
       "      <td>NaN</td>\n",
       "      <td>NaN</td>\n",
       "    </tr>\n",
       "    <tr>\n",
       "      <th>1</th>\n",
       "      <td>NaN</td>\n",
       "      <td>3.0</td>\n",
       "      <td>4.0</td>\n",
       "      <td>NaN</td>\n",
       "    </tr>\n",
       "    <tr>\n",
       "      <th>2</th>\n",
       "      <td>3.0</td>\n",
       "      <td>NaN</td>\n",
       "      <td>5.0</td>\n",
       "      <td>7.0</td>\n",
       "    </tr>\n",
       "  </tbody>\n",
       "</table>\n",
       "</div>"
      ],
      "text/plain": [
       "     a    b    c    d\n",
       "0  1.0  2.0  NaN  NaN\n",
       "1  NaN  3.0  4.0  NaN\n",
       "2  3.0  NaN  5.0  7.0"
      ]
     },
     "execution_count": 5,
     "metadata": {},
     "output_type": "execute_result"
    }
   ],
   "source": [
    "pd.DataFrame([\n",
    "    {'a': 1, 'b': 2}, \n",
    "    {'b': 3, 'c': 4}, \n",
    "    {'a': 3, 'c': 5, 'd': 7}\n",
    "])"
   ]
  },
  {
   "cell_type": "markdown",
   "metadata": {},
   "source": [
    "### 2. Data Indexing and Selection\n",
    "Here we’ll look at the means of accessing and modifying values in Pandas Series and DataFrame objects. Since we have already learnt various NumPy patterns, we will feel the corresponding patterns in Pandas very familiar, though there are a few quirks to be aware of. "
   ]
  },
  {
   "cell_type": "code",
   "execution_count": 6,
   "metadata": {},
   "outputs": [
    {
     "name": "stdout",
     "output_type": "stream",
     "text": [
      "Data at index 1 ->  0.5\n",
      "Keys of the dataframe df ->  RangeIndex(start=0, stop=4, step=1)\n",
      "Items in dataframe df as list ->  [(0, 0.25), (1, 0.5), (2, 0.75), (3, 1.0)]\n",
      "New dataframe df:\n",
      " a     0.25\n",
      "b     0.50\n",
      "c     0.75\n",
      "d     1.00\n",
      "e    12.00\n",
      "dtype: float64 \n",
      "\n",
      "Sliced dataframe:\n",
      " b    0.50\n",
      "c    0.75\n",
      "dtype: float64 \n",
      "\n",
      "Masked dataframe:\n",
      " b    0.50\n",
      "c    0.75\n",
      "dtype: float64 \n",
      "\n",
      "Dancy indexed dataframe:\n",
      " 0    0.25\n",
      "3    1.00\n",
      "dtype: float64\n"
     ]
    }
   ],
   "source": [
    "df = pd.Series([0.25, 0.5, 0.75, 1.0], \n",
    "                  index=['a', 'b', 'c', 'd'])\n",
    "print('Data at index 1 -> ', data[1])\n",
    "print('Keys of the dataframe df -> ', data.keys())\n",
    "print('Items in dataframe df as list -> ', list(data.items()))\n",
    "# ADDING DATA IN DATAFRAME\n",
    "df['e'] = 12\n",
    "print('New dataframe df:\\n', df, '\\n')\n",
    "\n",
    "# SLICING BY INTEGER INDEX\n",
    "df2 = df[1:3]\n",
    "print('Sliced dataframe:\\n', df2, '\\n')\n",
    "\n",
    "# MASKING\n",
    "df3 = df[(df>0.3) & (df<0.8)]\n",
    "print('Masked dataframe:\\n', df3, '\\n')\n",
    "\n",
    "# FANCY INDEXING\n",
    "df4 = data[[0, 3]]\n",
    "print('Dancy indexed dataframe:\\n', df4)"
   ]
  },
  {
   "cell_type": "markdown",
   "metadata": {},
   "source": [
    "### 3. Operating on Data\n",
    "#### Index Preservation"
   ]
  },
  {
   "cell_type": "code",
   "execution_count": 7,
   "metadata": {},
   "outputs": [
    {
     "name": "stdout",
     "output_type": "stream",
     "text": [
      "Original df:\n",
      "    A  B  C  D\n",
      "0  6  3  7  4\n",
      "1  6  9  2  6\n",
      "2  7  4  3  7 \n",
      "\n",
      "Modified df:\n",
      "           A         B         C         D\n",
      "0 -0.480396  0.968775  0.060987 -0.982093\n",
      "1 -0.480396 -0.730557 -0.770842 -0.480396\n",
      "2  0.060987 -0.982093  0.968775  0.060987\n"
     ]
    }
   ],
   "source": [
    "rng = np.random.RandomState(42)\n",
    "df = pd.DataFrame(rng.randint(0, 10, (3, 4)), \n",
    "                  columns=['A', 'B', 'C', 'D']) \n",
    "print('Original df:\\n', df, '\\n')\n",
    "df2 = np.sin(df * 5 * np.cos(1))\n",
    "print('Modified df:\\n', df2)"
   ]
  },
  {
   "cell_type": "markdown",
   "metadata": {},
   "source": [
    "#### Index Alignment"
   ]
  },
  {
   "cell_type": "code",
   "execution_count": 8,
   "metadata": {},
   "outputs": [
    {
     "name": "stdout",
     "output_type": "stream",
     "text": [
      "Population per square kilometer:\n",
      " Alaska              NaN\n",
      "California    90.413926\n",
      "New York            NaN\n",
      "Texas         38.018740\n",
      "dtype: float64\n"
     ]
    }
   ],
   "source": [
    "# INDEX ALIGNMENT IN SERIES\n",
    "area = pd.Series({'Alaska': 1723337, 'Texas': 695662, 'California': 423967}, name='area')       \n",
    "population = pd.Series({'California': 38332521, 'Texas': 26448193, 'New York': 19651127}, name='population') \n",
    "\n",
    "population_density = population / area\n",
    "print('Population per square kilometer:\\n', population_density)"
   ]
  },
  {
   "cell_type": "code",
   "execution_count": 9,
   "metadata": {},
   "outputs": [
    {
     "name": "stdout",
     "output_type": "stream",
     "text": [
      "New dataframe:\n",
      "       P   Q    R   W\n",
      "0   6.0 NaN  1.0 NaN\n",
      "1  19.0 NaN  5.0 NaN\n",
      "2   NaN NaN  NaN NaN\n"
     ]
    }
   ],
   "source": [
    "# INDEX ALIGNMENT IN DATAFRAME\n",
    "A = pd.DataFrame(rng.randint(0, 20, (2, 2)),columns=list('PR')) \n",
    "B = pd.DataFrame(rng.randint(0, 10, (3, 4)),columns=list('QPRW')) \n",
    "\n",
    "C = A+B\n",
    "print('New dataframe:\\n', C)"
   ]
  },
  {
   "cell_type": "markdown",
   "metadata": {},
   "source": [
    "<table style=\"text-align: centre;\">\n",
    "    <tr><td><b>Python Operator</b></td><td><b>Pandas Method</b></td></tr>\n",
    "    <tr><td>+</td><td>add()</td></tr>\n",
    "    <tr><td>-</td><td>sub(), subtract()</td></tr>\n",
    "    <tr><td>*</td><td>mul(), multiply()</td></tr>\n",
    "    <tr><td>/</td><td>truediv(), div()</td></tr>\n",
    "    <tr><td>//</td><td>floordiv()</td></tr>\n",
    "    <tr><td>%</td><td>mod()</td></tr>\n",
    "    <tr><td>**</td><td>pow()</td></tr>\n",
    "</table>\n",
    "\n",
    "<p>This is the list of Pandas operators. Feel free to experiment with them.</p>\n",
    "\n",
    "### 4. Handling Missing Data\n",
    "#### Missing Numerical Data\n",
    "<p>NaN is a bit like a data virus—it infects any other object it touches. Regardless of the operation, the result of arithmetic with NaN will be another NaN.</p>"
   ]
  },
  {
   "cell_type": "code",
   "execution_count": 10,
   "metadata": {},
   "outputs": [
    {
     "name": "stdout",
     "output_type": "stream",
     "text": [
      "Array datatype:  float64\n",
      "1 + np.nan =  nan\n",
      "0 * np.nan =  nan\n",
      "Sum, Max and Min of array val:  nan nan nan\n",
      "Sum, Max and Min of array val:  8.0 4.0 1.0\n"
     ]
    }
   ],
   "source": [
    "val = np.array([1, np.nan, 3, 4])\n",
    "\n",
    "print('Array datatype: ', val.dtype)\n",
    "print('1 + np.nan = ', 1+np.nan)\n",
    "print('0 * np.nan = ', 0*np.nan)\n",
    "print('Sum, Max and Min of array val: ', val.sum(), val.max(), val.min())\n",
    "\n",
    "# NumPy does provide some special aggregations that will ignore these missing values\n",
    "print('Sum, Max and Min of array val: ', np.nansum(val), np.nanmax(val), np.nanmin(val))"
   ]
  },
  {
   "cell_type": "markdown",
   "metadata": {},
   "source": [
    "<p>NaN and None both have their place, and Pandas is built to handle the two of them nearly interchangeably, \n",
    "converting between them where appropriate</p>"
   ]
  },
  {
   "cell_type": "code",
   "execution_count": 11,
   "metadata": {},
   "outputs": [
    {
     "data": {
      "text/plain": [
       "0    1.0\n",
       "1    NaN\n",
       "2    2.0\n",
       "3    NaN\n",
       "dtype: float64"
      ]
     },
     "execution_count": 11,
     "metadata": {},
     "output_type": "execute_result"
    }
   ],
   "source": [
    "pd.Series([1, np.nan, 2, None])"
   ]
  },
  {
   "cell_type": "markdown",
   "metadata": {},
   "source": [
    "### 5. Operating on Null values\n",
    "As we have seen, Pandas treats None and NaN as essentially interchangeable for indicating missing or null values. To facilitate this convention, there are several useful methods for detecting, removing, and replacing null values in Pandas data structures. They are:\n",
    "<table>\n",
    "    <tr><th>Method</th><th>What it does</th></td>\n",
    "    <tr><td>isnull() </td><td> Generate a Boolean mask indicating missing values </td></tr>\n",
    "    <tr><td>notnull() </td><td> Opposite of isnull() </td></tr>\n",
    "    <tr><td>dropna() </td><td> Return a filtered version of the data </td></tr>\n",
    "    <tr><td>fillna() </td><td> Return a copy of the data with missing values filled or imputed</td></tr>\n",
    "</table>\n",
    "\n",
    "### Droping Null values"
   ]
  },
  {
   "cell_type": "code",
   "execution_count": 12,
   "metadata": {},
   "outputs": [
    {
     "name": "stdout",
     "output_type": "stream",
     "text": [
      "Check Null:\n",
      " 0    False\n",
      "1     True\n",
      "2    False\n",
      "3     True\n",
      "dtype: bool \n",
      "\n",
      "Original Dataframe:\n",
      "    col1  col2  col3\n",
      "0   1.0   NaN     2\n",
      "1   2.0   3.0     5\n",
      "2   NaN   4.0     6\n",
      "3   1.0   7.0     2 \n",
      "\n",
      "Dataframe After Removing Rows Containing NULL Values:\n",
      "    col1  col2  col3\n",
      "1   2.0   3.0     5\n",
      "3   1.0   7.0     2\n"
     ]
    }
   ],
   "source": [
    "data = pd.Series([1, np.nan, 'hello', None])\n",
    "\n",
    "# to check null -> data.isnull()\n",
    "print('Check Null:\\n', data.isnull(), '\\n')\n",
    "# to print non null values -> data[data.notnull()]\n",
    "# to drop the null values -> data.dropna()\n",
    "\n",
    "df = pd.DataFrame([[1, np.nan, 2], \n",
    "                    [2, 3, 5], \n",
    "                    [np.nan, 4, 6],\n",
    "                    [1, 7, 2]], columns=['col1', 'col2', 'col3']) \n",
    "print('Original Dataframe:\\n', df, '\\n')\n",
    "df_dropped = df.dropna()\n",
    "print('Dataframe After Removing Rows Containing NULL Values:\\n', df_dropped)"
   ]
  },
  {
   "cell_type": "markdown",
   "metadata": {},
   "source": [
    "### Filling null values \n",
    "Sometimes rather than dropping NA values, you’d rather replace them with a valid value. This value might be a single number like zero, or it might be some sort of imputation or interpolation from the good values."
   ]
  },
  {
   "cell_type": "code",
   "execution_count": 13,
   "metadata": {},
   "outputs": [
    {
     "name": "stdout",
     "output_type": "stream",
     "text": [
      "Filled dataframe:\n",
      "    col1  col2  col3\n",
      "0   1.0   0.0     2\n",
      "1   2.0   3.0     5\n",
      "2   0.0   4.0     6\n",
      "3   1.0   7.0     2 \n",
      "\n",
      "Forward Filled dataframe:\n",
      "    col1  col2  col3\n",
      "0   1.0   1.0   2.0\n",
      "1   2.0   3.0   5.0\n",
      "2   NaN   4.0   6.0\n",
      "3   1.0   7.0   2.0 \n",
      "\n",
      "Backward Filled dataframe:\n",
      "    col1  col2  col3\n",
      "0   1.0   NaN     2\n",
      "1   2.0   3.0     5\n",
      "2   2.0   4.0     6\n",
      "3   1.0   7.0     2 \n",
      "\n"
     ]
    }
   ],
   "source": [
    "df_filled = df.fillna(0)\n",
    "print('Filled dataframe:\\n', df_filled, '\\n')\n",
    "\n",
    "df_forward_fill = df.fillna(method='ffill', axis=1)\n",
    "print('Forward Filled dataframe:\\n', df_forward_fill, '\\n')\n",
    "\n",
    "df_backward_fill = df.fillna(method='ffill')\n",
    "print('Backward Filled dataframe:\\n', df_backward_fill, '\\n')\n"
   ]
  },
  {
   "cell_type": "markdown",
   "metadata": {},
   "source": [
    "### 6. Working With Time Series\n",
    "\n",
    "#### Date and Time in Python : Native Python dates and times: datetime and dateutil "
   ]
  },
  {
   "cell_type": "code",
   "execution_count": 14,
   "metadata": {},
   "outputs": [],
   "source": [
    "from datetime import datetime\n",
    "from dateutil import parser"
   ]
  },
  {
   "cell_type": "code",
   "execution_count": 15,
   "metadata": {},
   "outputs": [
    {
     "name": "stdout",
     "output_type": "stream",
     "text": [
      "2020-11-09 00:00:00\n",
      "2020-11-09 00:00:00\n"
     ]
    }
   ],
   "source": [
    "# WE CAN MANUALLY BUILD A DATE USING THE datetime TYPE\n",
    "print(datetime(year=2020, month=11, day=9))\n",
    "# OR USING dateutil MODULE, WE CAN PARSE DATE FROM VARIETY OF STRING FORMATS\n",
    "date = parser.parse(\"9th of November, 2020\")\n",
    "print(date)"
   ]
  },
  {
   "cell_type": "code",
   "execution_count": 16,
   "metadata": {},
   "outputs": [
    {
     "data": {
      "text/plain": [
       "'Monday'"
      ]
     },
     "execution_count": 16,
     "metadata": {},
     "output_type": "execute_result"
    }
   ],
   "source": [
    "# FROM DATETIME OBJECT WE CAN DO MANY THINGS, LIKE PRINTING THE DAY OF THE WEEK\n",
    "date.strftime(\"%A\")"
   ]
  },
  {
   "cell_type": "code",
   "execution_count": 17,
   "metadata": {},
   "outputs": [
    {
     "name": "stdout",
     "output_type": "stream",
     "text": [
      "2020-11-09 datetime64[D]\n"
     ]
    }
   ],
   "source": [
    "# DATETIME USING NUMPY\n",
    "date = np.array('2020-11-09', dtype=np.datetime64) \n",
    "print(date, date.dtype)"
   ]
  },
  {
   "cell_type": "markdown",
   "metadata": {},
   "source": [
    "Once we have this date formatted, however, we can quickly do vectorized operations on it:"
   ]
  },
  {
   "cell_type": "code",
   "execution_count": 18,
   "metadata": {},
   "outputs": [
    {
     "data": {
      "text/plain": [
       "DatetimeIndex(['2020-11-09', '2020-11-10', '2020-11-11', '2020-11-12',\n",
       "               '2020-11-13', '2020-11-14', '2020-11-15', '2020-11-16',\n",
       "               '2020-11-17', '2020-11-18', '2020-11-19', '2020-11-20'],\n",
       "              dtype='datetime64[ns]', freq=None)"
      ]
     },
     "execution_count": 18,
     "metadata": {},
     "output_type": "execute_result"
    }
   ],
   "source": [
    "index = pd.DatetimeIndex(date + np.arange(12))\n",
    "index"
   ]
  },
  {
   "cell_type": "code",
   "execution_count": 19,
   "metadata": {},
   "outputs": [
    {
     "data": {
      "text/plain": [
       "2020-11-09     1\n",
       "2020-11-10     2\n",
       "2020-11-11     3\n",
       "2020-11-12     4\n",
       "2020-11-13     5\n",
       "2020-11-14     6\n",
       "2020-11-15     7\n",
       "2020-11-16     8\n",
       "2020-11-17     9\n",
       "2020-11-18    10\n",
       "2020-11-19    11\n",
       "2020-11-20    12\n",
       "dtype: int64"
      ]
     },
     "execution_count": 19,
     "metadata": {},
     "output_type": "execute_result"
    }
   ],
   "source": [
    "df = pd.Series(range(1,13), index=index)\n",
    "df"
   ]
  },
  {
   "cell_type": "markdown",
   "metadata": {},
   "source": [
    "### pd.date_range()\n",
    "To make the creation of regular date sequences more convenient, Pandas offers a few functions for this purpose: pd.date_range() for timestamps, pd.period_range() for periods, and pd.timedelta_range() for time deltas."
   ]
  },
  {
   "cell_type": "code",
   "execution_count": 20,
   "metadata": {},
   "outputs": [
    {
     "data": {
      "text/plain": [
       "DatetimeIndex(['2020-11-09', '2020-11-10', '2020-11-11', '2020-11-12',\n",
       "               '2020-11-13', '2020-11-14', '2020-11-15'],\n",
       "              dtype='datetime64[ns]', freq='D')"
      ]
     },
     "execution_count": 20,
     "metadata": {},
     "output_type": "execute_result"
    }
   ],
   "source": [
    "pd.date_range('2020-11-09', '2020-11-15')"
   ]
  },
  {
   "cell_type": "code",
   "execution_count": 21,
   "metadata": {},
   "outputs": [
    {
     "data": {
      "text/plain": [
       "DatetimeIndex(['2020-11-09', '2020-11-10', '2020-11-11', '2020-11-12',\n",
       "               '2020-11-13', '2020-11-14', '2020-11-15', '2020-11-16'],\n",
       "              dtype='datetime64[ns]', freq='D')"
      ]
     },
     "execution_count": 21,
     "metadata": {},
     "output_type": "execute_result"
    }
   ],
   "source": [
    "pd.date_range('2020-11-09', periods=8)"
   ]
  },
  {
   "cell_type": "code",
   "execution_count": 22,
   "metadata": {},
   "outputs": [
    {
     "data": {
      "text/plain": [
       "PeriodIndex(['2020-11', '2020-12', '2021-01', '2021-02', '2021-03', '2021-04',\n",
       "             '2021-05', '2021-06'],\n",
       "            dtype='period[M]', freq='M')"
      ]
     },
     "execution_count": 22,
     "metadata": {},
     "output_type": "execute_result"
    }
   ],
   "source": [
    "pd.period_range('2020-11-08', periods=8, freq='M')"
   ]
  },
  {
   "cell_type": "code",
   "execution_count": 23,
   "metadata": {},
   "outputs": [
    {
     "data": {
      "text/plain": [
       "TimedeltaIndex(['00:00:00', '01:00:00', '02:00:00', '03:00:00', '04:00:00',\n",
       "                '05:00:00', '06:00:00', '07:00:00', '08:00:00', '09:00:00'],\n",
       "               dtype='timedelta64[ns]', freq='H')"
      ]
     },
     "execution_count": 23,
     "metadata": {},
     "output_type": "execute_result"
    }
   ],
   "source": [
    "pd.timedelta_range(0, periods=10, freq='H')"
   ]
  },
  {
   "cell_type": "markdown",
   "metadata": {},
   "source": [
    "#### With this, we conclude this session. In the next session, we will learn about the module matplotlib."
   ]
  }
 ],
 "metadata": {
  "kernelspec": {
   "display_name": "Python 3",
   "language": "python",
   "name": "python3"
  },
  "language_info": {
   "codemirror_mode": {
    "name": "ipython",
    "version": 3
   },
   "file_extension": ".py",
   "mimetype": "text/x-python",
   "name": "python",
   "nbconvert_exporter": "python",
   "pygments_lexer": "ipython3",
   "version": "3.6.7"
  }
 },
 "nbformat": 4,
 "nbformat_minor": 2
}
