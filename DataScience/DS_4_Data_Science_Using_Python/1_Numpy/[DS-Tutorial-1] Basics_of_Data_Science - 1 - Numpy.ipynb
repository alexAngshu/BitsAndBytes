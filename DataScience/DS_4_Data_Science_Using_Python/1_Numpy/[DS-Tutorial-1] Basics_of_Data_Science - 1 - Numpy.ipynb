{
 "cells": [
  {
   "cell_type": "markdown",
   "metadata": {},
   "source": [
    "<h2 style=\"text-align: center;\">Basics of Data Science Using Python</h2>\n",
    "\n",
    "In this session, we will learn the basics of data science using Python. In the previous sessions, we already discussed about the basics of data science and the applications of data science. So, we will move forward to today's session where we will be covering many python modules and their applications.\n",
    "\n",
    "The modules covered in this session are,\n",
    "<ol>\n",
    "    <li>Numpy</li>\n",
    "    <li>Pandas</li>\n",
    "    <li>Matplotlib</li>\n",
    "</ol>"
   ]
  },
  {
   "cell_type": "markdown",
   "metadata": {},
   "source": [
    "<h3 style=\"text-align: center;\"> 1. Learning NumPy </h3>\n",
    "\n",
    "#### What is NumPy?\n",
    "<p> NumPy is a python library used for working with arrays. It also has functions for working in domain of linear algebra, fourier transform, and matrices. NumPy stands for Numerical Python.</p>\n",
    "\n",
    "#### What are we going to learn?\n",
    "<p>We are going to learn the following </p>\n",
    "<ol>\n",
    "    <li>Numpy Arrays</li>\n",
    "    <li>Aggregation Functions</li>\n",
    "    <li>Comparison, Mask and Boolean Logic</li>\n",
    "    <li>Fancy Indexing</li>\n",
    "    <li>Sorting Arrays</li>\n",
    "    <li>Structured Data</li>\n",
    "</ol>"
   ]
  },
  {
   "cell_type": "markdown",
   "metadata": {},
   "source": [
    "### Import NumPy "
   ]
  },
  {
   "cell_type": "code",
   "execution_count": 1,
   "metadata": {},
   "outputs": [],
   "source": [
    "import numpy as np"
   ]
  },
  {
   "cell_type": "markdown",
   "metadata": {},
   "source": [
    "### 1. NumPy Arrays"
   ]
  },
  {
   "cell_type": "code",
   "execution_count": 2,
   "metadata": {},
   "outputs": [],
   "source": [
    "np.random.seed(42)\n",
    "\n",
    "arrLen_1d = 6\n",
    "x1 = np.random.randint(5, size=arrLen_1d) # Creating 1D array\n",
    "\n",
    "arrShape_2d = (3, 4)\n",
    "x2 = np.random.randint(8, size=arrShape_2d) # creating 2D array\n",
    "\n",
    "arrShape_3d = (4, 3, 2)\n",
    "x3 = np.random.randint(low=0, high=30, size=arrShape_3d) # creating 3D array"
   ]
  },
  {
   "cell_type": "code",
   "execution_count": 3,
   "metadata": {},
   "outputs": [
    {
     "name": "stdout",
     "output_type": "stream",
     "text": [
      "x1:\n",
      " [3, 4, 2, 4, 4, 1]\n",
      "x2:\n",
      " [[2, 6, 2, 2], [7, 4, 3, 7], [7, 2, 5, 4]]\n",
      "x3:\n",
      " [[[1, 23], [11, 29], [5, 1]], [[27, 20], [0, 11], [25, 21]], [[28, 11], [24, 16], [26, 26]], [[9, 27], [27, 15], [14, 29]]]\n"
     ]
    }
   ],
   "source": [
    "print('x1:\\n', x1.tolist()) # printing array x1 as list\n",
    "print('x2:\\n', x2.tolist()) # printing array x2 as list\n",
    "print('x3:\\n', x3.tolist()) # printing array x3 as list"
   ]
  },
  {
   "cell_type": "code",
   "execution_count": 4,
   "metadata": {},
   "outputs": [],
   "source": [
    "def print_array_property(arr):\n",
    "    print('Number of Dimension:', arr.ndim) # number of dimensions\n",
    "    print('Array Shape:', arr.shape) # size of each dimension\n",
    "    print('Array Size:', arr.size) # Total size of the array\n",
    "    print('Array Datatype:', arr.dtype) # Data type of the given array\n",
    "    print('Array Item Size:', arr.itemsize, 'bytes') # size of each array element in bytes \n",
    "    print('Array total Size:', arr.nbytes, 'bytes') # total size of array in bytes"
   ]
  },
  {
   "cell_type": "code",
   "execution_count": 7,
   "metadata": {},
   "outputs": [
    {
     "name": "stdout",
     "output_type": "stream",
     "text": [
      "Number of Dimension: 2\n",
      "Array Shape: (3, 4)\n",
      "Array Size: 12\n",
      "Array Datatype: int32\n",
      "Array Item Size: 4 bytes\n",
      "Array total Size: 48 bytes\n"
     ]
    }
   ],
   "source": [
    "print_array_property(x2)"
   ]
  },
  {
   "cell_type": "markdown",
   "metadata": {},
   "source": [
    "### Array Indexing\n",
    "Array indexing in Numpy is almost similar as list indexing using python. If you are familiar with lists in python, this section won't take much of your time. "
   ]
  },
  {
   "cell_type": "code",
   "execution_count": 8,
   "metadata": {},
   "outputs": [
    {
     "name": "stdout",
     "output_type": "stream",
     "text": [
      "Array x1 from index 2 to 4: [2 4]\n",
      "Element of array x3 in index (2,1): [24 16]\n",
      "Last element of array x2: [7 2 5 4]\n",
      "First 3 elements of array x1: [3 4 2]\n",
      "Last 3 elements of array x1: [4 4 1]\n"
     ]
    }
   ],
   "source": [
    "print('Array x1 from index 2 to 4:', x1[2:4])\n",
    "print('Element of array x3 in index (2,1):', x3[2][1])\n",
    "print('Last element of array x2:', x2[-1])\n",
    "print('First 3 elements of array x1:', x1[:3])\n",
    "print('Last 3 elements of array x1:', x1[-3:])"
   ]
  },
  {
   "cell_type": "markdown",
   "metadata": {},
   "source": [
    "### 2. Aggregation Functions\n",
    "<p>To get the statistical summary of a data, the aggregation functions like mean, median, mode plays an important role. Some of these operations are demonstrated below.</p>"
   ]
  },
  {
   "cell_type": "code",
   "execution_count": 9,
   "metadata": {},
   "outputs": [
    {
     "name": "stdout",
     "output_type": "stream",
     "text": [
      "Created array is: [3, 7, 4, 9, 3, 5, 3, 7, 5, 9]\n",
      "Sum of all array elements in arr: 55\n",
      "Product of all array elements in arr: 10716300\n",
      "Mean of all array elements in arr: 5.5\n",
      "Median of all array elements in arr: 5.0\n",
      "Average of all array elements in arr: 5.5\n",
      "Maximum value of all array elements in arr: 9\n",
      "Index of maximum value in arr: 3\n",
      "Minimum value of all array elements in arr: 3\n",
      "Index of minimum value in arr: 0\n",
      "Standard Deviation of all array elements in arr: 2.247220505424423\n",
      "Variance of all array elements in arr: 5.05\n",
      "If any of the array elements are true in arr: True\n",
      "If all of the array elements are true in arr: True\n"
     ]
    }
   ],
   "source": [
    "arr = np.random.randint(low=1, high=10, size=(10))\n",
    "\n",
    "print('Created array is:', arr.tolist()) \n",
    "\n",
    "print('Sum of all array elements in arr:', np.sum(arr))\n",
    "print('Product of all array elements in arr:', np.prod(arr))\n",
    "\n",
    "print('Mean of all array elements in arr:', np.mean(arr))\n",
    "print('Median of all array elements in arr:', np.median(arr))\n",
    "print('Average of all array elements in arr:', np.average(arr))\n",
    "\n",
    "print('Maximum value of all array elements in arr:', np.max(arr))\n",
    "print('Index of maximum value in arr:', np.argmax(arr))\n",
    "print('Minimum value of all array elements in arr:', np.min(arr))\n",
    "print('Index of minimum value in arr:', np.argmin(arr))\n",
    "\n",
    "print('Standard Deviation of all array elements in arr:', np.std(arr))\n",
    "print('Variance of all array elements in arr:', np.var(arr))\n",
    "\n",
    "print('If any of the array elements are true in arr:', np.any(arr))\n",
    "print('If all of the array elements are true in arr:', np.all(arr))"
   ]
  },
  {
   "cell_type": "markdown",
   "metadata": {},
   "source": [
    "### 3. Comparison, Mask and Boolean Logic"
   ]
  },
  {
   "cell_type": "code",
   "execution_count": 10,
   "metadata": {},
   "outputs": [
    {
     "name": "stdout",
     "output_type": "stream",
     "text": [
      "[MASKS] Print False if the condition is not satisfied. Else print true\n",
      "\n",
      "Elements in x that are less than 4 OR greater than 8 [False  True  True False False  True  True  True False False]\n",
      "Elements in x that are less than 4 AND greater than 8 [False False False False False False False False False False]\n",
      "Number of elements in x that are not equal to 4 9\n",
      "XOR Operation [ 0  5 14 15  2 13  6  4  3  1]\n",
      "\n",
      "\n",
      "The elements in x are less than 4: [False  True False False False False  True  True False False]\n",
      "The elements in x are less than equal to 2: [False  True False False False False  True False False False]\n",
      "The elements in x are greater than 7: [False False  True  True False  True False False False False]\n",
      "The elements in x are greater equal to 5: [ True False  True  True  True  True False False False  True]\n",
      "The elements in x are equal to 5: [False False False False  True False False False False False]\n",
      "For the elements in x, 2x = x^2 [False  True False False False False False False False False]\n",
      "\n",
      "\n",
      "Every elements in x that are less than 5: False\n",
      "Any elements in x that is less than 5: True\n"
     ]
    }
   ],
   "source": [
    "x = np.array([7, 2, 9, 8, 5, 10, 1, 3, 4, 6]) # Creating a numpy array\n",
    "\n",
    "print('[MASKS] Print False if the condition is not satisfied. Else print true\\n')\n",
    "\n",
    "print('Elements in x that are less than 4 OR greater than 8', ((x<4) | (x>8))) # OR OPERATOR\n",
    "print('Elements in x that are less than 4 AND greater than 8', ((x<4) & (x>8))) # AND OPERATOR\n",
    "print('Number of elements in x that are not equal to 4', np.sum(x != 4 )) # NOT OPERATOR\n",
    "print('XOR Operation', (x ^ 7)) # XOR OPERATOR\n",
    "print('\\n')\n",
    "\n",
    "print('The elements in x are less than 4:', x<4)\n",
    "print('The elements in x are less than equal to 2:', x<=2)\n",
    "print('The elements in x are greater than 7:', x>7)\n",
    "print('The elements in x are greater equal to 5:', x>=5)\n",
    "print('The elements in x are equal to 5:', x==5)\n",
    "print('For the elements in x, 2x = x^2', 2*x==x**2)\n",
    "print('\\n')\n",
    "\n",
    "print('Every elements in x that are less than 5:', (x<5).all())\n",
    "print('Any elements in x that is less than 5:', (x<5).any())"
   ]
  },
  {
   "cell_type": "code",
   "execution_count": 11,
   "metadata": {},
   "outputs": [
    {
     "name": "stdout",
     "output_type": "stream",
     "text": [
      "A OR B [1 1 1 1 1]\n",
      "A OR B [0 0 1 0 0]\n",
      "A XOR B [1 1 0 1 1]\n"
     ]
    }
   ],
   "source": [
    "# DEFINING ARRAYS TO PERFORM BOOLEAN OPERATIONS\n",
    "A = np.array([1, 0, 1, 1, 0])\n",
    "B = np.array([0, 1, 1, 0, 1])\n",
    "print('A OR B', (A|B))\n",
    "print('A OR B', (A&B))\n",
    "print('A XOR B', (A^B))"
   ]
  },
  {
   "cell_type": "markdown",
   "metadata": {},
   "source": [
    "### 4. Fancy Indexing\n",
    "As of now, we saw how to access portions of arrays using simple indices. Now, we'll look at another style of array indexing, known as fancy indexing. Fancy indexing is like the simple indexing we've already seen, but we pass arrays of indices in place of single scalars. This allows us to very quickly access and modify complicated subsets of an array’s values."
   ]
  },
  {
   "cell_type": "code",
   "execution_count": 12,
   "metadata": {},
   "outputs": [
    {
     "name": "stdout",
     "output_type": "stream",
     "text": [
      "Fancy Indexed Array from array X1: [4, 4, 3]\n",
      "Fancy Indexed Array from array X2: [[2, 6, 2, 2], [7, 2, 5, 4]]\n",
      "Fancy Indexed Array from array X3: [20, 24, 23]\n"
     ]
    }
   ],
   "source": [
    "print('Fancy Indexed Array from array X1:',[x1[1], x1[4], x1[0]])\n",
    "print('Fancy Indexed Array from array X2:',[x2[0].tolist(), x2[2].tolist()])\n",
    "print('Fancy Indexed Array from array X3:',[x3[1][0][1], x3[2][1][0], x3[0][0][1] ])"
   ]
  },
  {
   "cell_type": "markdown",
   "metadata": {},
   "source": [
    "### 5. Sorting Arrays"
   ]
  },
  {
   "cell_type": "code",
   "execution_count": 13,
   "metadata": {},
   "outputs": [
    {
     "name": "stdout",
     "output_type": "stream",
     "text": [
      "[0 1 1 1 2 2 4 6 9]\n",
      "[ 2  2  4  6  6  8  9 11 20]\n"
     ]
    }
   ],
   "source": [
    "# WE CAN SORT AN ARRAY IN TWO WAYS..\n",
    "\n",
    "# sort method - 1\n",
    "a = np.array([1, 2, 9, 6, 2, 4, 1, 0, 1])\n",
    "a = np.sort(a)\n",
    "print(a)\n",
    "\n",
    "#sort method - 2\n",
    "b = np.array([9, 2, 8, 6, 20, 4, 11, 2, 6])\n",
    "b.sort()\n",
    "print(b)"
   ]
  },
  {
   "cell_type": "code",
   "execution_count": 15,
   "metadata": {},
   "outputs": [
    {
     "name": "stdout",
     "output_type": "stream",
     "text": [
      "Unsorted Array:\n",
      " [[6 3 7 4 6 9]\n",
      " [2 6 7 4 3 7]\n",
      " [7 2 5 4 1 7]\n",
      " [5 1 4 0 9 5]]\n",
      "Sorted Array along axis 0:\n",
      " [[2 1 4 0 1 5]\n",
      " [5 2 5 4 3 7]\n",
      " [6 3 7 4 6 7]\n",
      " [7 6 7 4 9 9]]\n"
     ]
    }
   ],
   "source": [
    "# NUMPY ALSO ALLOWS US TO SORT A MULTIDIMENSIONAL MATRIX ALONG IT'S AXIS (ROW WISE, COLUMN WISE...)\n",
    "\n",
    "# sorting array through axis\n",
    "rand = np.random.RandomState(42)       \n",
    "X = rand.randint(0, 10, (4, 6))\n",
    "print('Unsorted Array:\\n', X)\n",
    "X = np.sort(X, axis=0)\n",
    "print('Sorted Array along axis 0:\\n',X) # SORRY IT'S AXIS 1, JUST AN ERROR IN PRINT STATEMENT"
   ]
  },
  {
   "cell_type": "markdown",
   "metadata": {},
   "source": [
    "### 6. Structured and Record Arrays\n",
    "\n",
    "#### Structured Array\n",
    "While often our data can be well represented by a homogeneous array of values, sometimes this is not the case. This code cells demonstrates the use of NumPy’s structured arrays and record arrays, which provide efficient storage for compound, hetero geneous data. While the patterns shown here are useful for simple operations, scenarios like this often lend themselves to the use of Pandas DataFrames. We will see Pandas in the next part."
   ]
  },
  {
   "cell_type": "code",
   "execution_count": 17,
   "metadata": {},
   "outputs": [
    {
     "name": "stdout",
     "output_type": "stream",
     "text": [
      "Complete Structured Data:\n",
      " [('Alex', 25, 55.0), ('Andrew', 45, 85.5), ('Casey', 37, 68.0), ('Halen', 19, 61.5)]\n",
      "All names: ['Alex' 'Andrew' 'Casey' 'Halen']\n",
      "Name of people whose age is less than 30: ['Alex' 'Halen']\n"
     ]
    }
   ],
   "source": [
    "name = ['Alex', 'Andrew', 'Casey', 'Halen'] # 4 PEOPLE ARE THERE\n",
    "age = [25, 45, 37, 19]       # THEIR AGES ARE DEFINED BY age ARRAY\n",
    "weight = [55.0, 85.5, 68.0, 61.5] # THEIR WEIGHTS ARE DEFINED USING weight ARRAY\n",
    "\n",
    "data = np.zeros(4, dtype={\n",
    "                        'names':('name', 'age', 'weight'), \n",
    "                        'formats':('U10', 'i4', 'f8')\n",
    "                    }) \n",
    "# ASSIGNING VALUES\n",
    "data['name'] = name \n",
    "data['age'] = age\n",
    "data['weight'] = weight\n",
    "\n",
    "print('Complete Structured Data:\\n', data.tolist()) # PRINTED AS LIST\n",
    "\n",
    "# ACCESSING USING THE KEYS\n",
    "print('All names:', data['name'])\n",
    "# USING SOME OPERATIONS\n",
    "print('Name of people whose age is less than 30:',  data[data['age'] < 30]['name'])"
   ]
  },
  {
   "cell_type": "markdown",
   "metadata": {},
   "source": [
    "#### RecordArrays\n",
    "NumPy also provides the np.recarray class, which is almost identical to the structured arrays just described, but with one additional feature: fields can be accessed as attributes rather than as dictionary keys"
   ]
  },
  {
   "cell_type": "code",
   "execution_count": 18,
   "metadata": {},
   "outputs": [
    {
     "name": "stdout",
     "output_type": "stream",
     "text": [
      "[25 45 37 19]\n",
      "[55.  85.5 68.  61.5]\n",
      "['Alex' 'Andrew' 'Casey' 'Halen']\n"
     ]
    }
   ],
   "source": [
    "data_rec = data.view(np.recarray)\n",
    "print(data_rec.age)\n",
    "print(data_rec.weight)\n",
    "print(data_rec.name)"
   ]
  },
  {
   "cell_type": "markdown",
   "metadata": {},
   "source": [
    "The downside is that for record arrays, there is some extra overhead involved in accessing the fields, even when using the same syntax. We can see this here:"
   ]
  },
  {
   "cell_type": "code",
   "execution_count": 19,
   "metadata": {},
   "outputs": [
    {
     "name": "stdout",
     "output_type": "stream",
     "text": [
      "173 ns ± 4.14 ns per loop (mean ± std. dev. of 7 runs, 10000000 loops each)\n",
      "5.15 µs ± 129 ns per loop (mean ± std. dev. of 7 runs, 100000 loops each)\n",
      "7.05 µs ± 304 ns per loop (mean ± std. dev. of 7 runs, 100000 loops each)\n"
     ]
    }
   ],
   "source": [
    "%timeit data['age']        \n",
    "%timeit data_rec['age']        \n",
    "%timeit data_rec.age"
   ]
  },
  {
   "cell_type": "code",
   "execution_count": null,
   "metadata": {},
   "outputs": [],
   "source": [
    "# THIS CONCLUDES OUR INTRODUCTION TO NUMPY\n",
    "\n",
    "# THANK YOU FOR WATCHING. PLEASE LIKE THIS VIDEO AND SUBSCRIBE TO THIS CHANNEL."
   ]
  }
 ],
 "metadata": {
  "kernelspec": {
   "display_name": "Python 3",
   "language": "python",
   "name": "python3"
  },
  "language_info": {
   "codemirror_mode": {
    "name": "ipython",
    "version": 3
   },
   "file_extension": ".py",
   "mimetype": "text/x-python",
   "name": "python",
   "nbconvert_exporter": "python",
   "pygments_lexer": "ipython3",
   "version": "3.6.7"
  }
 },
 "nbformat": 4,
 "nbformat_minor": 2
}
